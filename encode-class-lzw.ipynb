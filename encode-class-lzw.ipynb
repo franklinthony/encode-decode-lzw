{
 "cells": [
  {
   "attachments": {},
   "cell_type": "markdown",
   "metadata": {},
   "source": [
    "### **Reconhecedor de padrões baseado em LZW**"
   ]
  },
  {
   "attachments": {},
   "cell_type": "markdown",
   "metadata": {},
   "source": [
    "#### Pré-processamento das imagens"
   ]
  },
  {
   "attachments": {},
   "cell_type": "markdown",
   "metadata": {},
   "source": [
    "##### 1. Retirada do cabeçalho dos dados"
   ]
  },
  {
   "cell_type": "code",
   "execution_count": 66,
   "metadata": {},
   "outputs": [],
   "source": [
    "import os"
   ]
  },
  {
   "cell_type": "code",
   "execution_count": 67,
   "metadata": {},
   "outputs": [],
   "source": [
    "# Diretório de origem\n",
    "diretorio_origem = \"/home/franklin/Documents/academic/Eng. de Computação/P8/Intro. à Teo. da Informação/Projeto/parte-2/encode-decode-lzw/db/orl_faces\"\n",
    "\n",
    "# Diretório de destino\n",
    "diretorio_destino = \"/home/franklin/Documents/academic/Eng. de Computação/P8/Intro. à Teo. da Informação/Projeto/parte-2/encode-decode-lzw/db/orl_faces_sc\""
   ]
  },
  {
   "cell_type": "code",
   "execution_count": 68,
   "metadata": {},
   "outputs": [],
   "source": [
    "# Percorre todas as subpastas no diretório de origem\n",
    "for subpasta in os.listdir(diretorio_origem):\n",
    "    caminho_subpasta = os.path.join(diretorio_origem, subpasta)\n",
    "\n",
    "    # Cria a subpasta correspondente no diretório de destino\n",
    "    caminho_destino_subpasta = os.path.join(diretorio_destino, subpasta)\n",
    "    os.makedirs(caminho_destino_subpasta, exist_ok=True)\n",
    "\n",
    "    # Percorre os arquivos de imagem na subpasta atual\n",
    "    for arquivo in os.listdir(caminho_subpasta):\n",
    "        if arquivo.endswith(\".pgm\"):\n",
    "            caminho_arquivo_origem = os.path.join(caminho_subpasta, arquivo)\n",
    "\n",
    "            # Abre o arquivo de origem em modo binário\n",
    "            with open(caminho_arquivo_origem, \"rb\") as arquivo_origem:\n",
    "                dados = arquivo_origem.read()\n",
    "\n",
    "            # Remove as três primeiras linhas\n",
    "            novos_dados = dados.split(b\"\\n\", 3)[-1]\n",
    "\n",
    "            # Cria o caminho do arquivo de destino\n",
    "            caminho_arquivo_destino = os.path.join(caminho_destino_subpasta, arquivo)\n",
    "\n",
    "            # Salva os novos dados no arquivo de destino em modo binário\n",
    "            with open(caminho_arquivo_destino, \"wb\") as arquivo_destino:\n",
    "                arquivo_destino.write(novos_dados)"
   ]
  },
  {
   "attachments": {},
   "cell_type": "markdown",
   "metadata": {},
   "source": [
    "#### Geração dos modelos"
   ]
  },
  {
   "attachments": {},
   "cell_type": "markdown",
   "metadata": {},
   "source": [
    "##### 1. Divisão aleatória do banco entre instâncias de \"treinamento\" e \"teste\" - **ocorre a cada novo valor de k**"
   ]
  },
  {
   "cell_type": "code",
   "execution_count": 184,
   "metadata": {},
   "outputs": [],
   "source": [
    "import shutil\n",
    "import random"
   ]
  },
  {
   "cell_type": "code",
   "execution_count": 185,
   "metadata": {},
   "outputs": [],
   "source": [
    "# Diretório de origem\n",
    "diretorio_origem = \"/home/franklin/Documents/academic/Eng. de Computação/P8/Intro. à Teo. da Informação/Projeto/parte-2/encode-decode-lzw/db/orl_faces_sc\"\n",
    "\n",
    "# Diretório de destino para treinamento\n",
    "diretorio_destino_treinamento = \"/home/franklin/Documents/academic/Eng. de Computação/P8/Intro. à Teo. da Informação/Projeto/parte-2/encode-decode-lzw/db/orl_faces_div/train\"\n",
    "\n",
    "# Diretório de destino para teste\n",
    "diretorio_destino_teste = \"/home/franklin/Documents/academic/Eng. de Computação/P8/Intro. à Teo. da Informação/Projeto/parte-2/encode-decode-lzw/db/orl_faces_div/test\"\n",
    "\n",
    "# Porcentagem de imagens para treinamento (90%)\n",
    "porcentagem_treinamento = 0.9"
   ]
  },
  {
   "cell_type": "code",
   "execution_count": 186,
   "metadata": {},
   "outputs": [],
   "source": [
    "# Exclui os diretórios de destino, se já existirem\n",
    "if os.path.exists(diretorio_destino_treinamento):\n",
    "    shutil.rmtree(diretorio_destino_treinamento)\n",
    "if os.path.exists(diretorio_destino_teste):\n",
    "    shutil.rmtree(diretorio_destino_teste)"
   ]
  },
  {
   "cell_type": "code",
   "execution_count": 187,
   "metadata": {},
   "outputs": [],
   "source": [
    "# Percorre todas as subpastas no diretório de origem\n",
    "for subpasta in os.listdir(diretorio_origem):\n",
    "    caminho_subpasta_origem = os.path.join(diretorio_origem, subpasta)\n",
    "\n",
    "    # Cria a subpasta correspondente no diretório de destino para treinamento\n",
    "    caminho_subpasta_destino_treinamento = os.path.join(diretorio_destino_treinamento, subpasta)\n",
    "    os.makedirs(caminho_subpasta_destino_treinamento)\n",
    "\n",
    "    # Cria a subpasta correspondente no diretório de destino para teste\n",
    "    caminho_subpasta_destino_teste = os.path.join(diretorio_destino_teste, subpasta)\n",
    "    os.makedirs(caminho_subpasta_destino_teste)\n",
    "\n",
    "    # Lista os arquivos na subpasta atual\n",
    "    arquivos = os.listdir(caminho_subpasta_origem)\n",
    "    random.shuffle(arquivos)  # Embaralha a ordem dos arquivos\n",
    "\n",
    "    # Calcula o número de arquivos para treinamento e teste\n",
    "    num_arquivos_treinamento = int(len(arquivos) * porcentagem_treinamento)\n",
    "    num_arquivos_teste = len(arquivos) - num_arquivos_treinamento\n",
    "\n",
    "    # Divide os arquivos entre treinamento e teste\n",
    "    arquivos_treinamento = arquivos[:num_arquivos_treinamento]\n",
    "    arquivos_teste = arquivos[num_arquivos_treinamento:]\n",
    "\n",
    "    # Move os arquivos para as respectivas pastas de treinamento e teste\n",
    "    for arquivo in arquivos_treinamento:\n",
    "        caminho_arquivo_origem = os.path.join(caminho_subpasta_origem, arquivo)\n",
    "        caminho_arquivo_destino = os.path.join(caminho_subpasta_destino_treinamento, arquivo)\n",
    "        shutil.copyfile(caminho_arquivo_origem, caminho_arquivo_destino)\n",
    "\n",
    "    for arquivo in arquivos_teste:\n",
    "        caminho_arquivo_origem = os.path.join(caminho_subpasta_origem, arquivo)\n",
    "        caminho_arquivo_destino = os.path.join(caminho_subpasta_destino_teste, arquivo)\n",
    "        shutil.copyfile(caminho_arquivo_origem, caminho_arquivo_destino)"
   ]
  },
  {
   "attachments": {},
   "cell_type": "markdown",
   "metadata": {},
   "source": [
    "##### 2. Construção dos modelos/dicionários para cada classe"
   ]
  },
  {
   "cell_type": "code",
   "execution_count": 188,
   "metadata": {},
   "outputs": [],
   "source": [
    "dict_size = 256"
   ]
  },
  {
   "cell_type": "code",
   "execution_count": 189,
   "metadata": {},
   "outputs": [],
   "source": [
    "def lzw_encode(input_file, dictionary, max_dict_size):\n",
    "    current_sequence = bytes()\n",
    "    global dict_size\n",
    "\n",
    "    with open(input_file, \"rb\") as file:\n",
    "        while True:\n",
    "            symbol = file.read(1)\n",
    "            if not symbol:\n",
    "                break\n",
    "\n",
    "            next_sequence = current_sequence + symbol\n",
    "            if next_sequence in dictionary:\n",
    "                current_sequence = next_sequence\n",
    "            else:\n",
    "                if dict_size < 2 ** max_dict_size:\n",
    "                    dictionary[next_sequence] = dict_size\n",
    "                    dict_size += 1\n",
    "                current_sequence = symbol"
   ]
  },
  {
   "cell_type": "code",
   "execution_count": 190,
   "metadata": {},
   "outputs": [],
   "source": [
    "def encode_images_in_folders(folder_path, max_dict_size):\n",
    "    dictionaries = []\n",
    "\n",
    "    # Verifica se o tamanho máximo do dicionário está dentro do intervalo válido\n",
    "    if not (9 <= max_dict_size <= 16):\n",
    "        raise ValueError(\"O tamanho máximo do dicionário deve estar entre 9 e 16.\")\n",
    "\n",
    "    # Percorre todas as pastas\n",
    "    for folder_name in os.listdir(folder_path):\n",
    "        folder_dir = os.path.join(folder_path, folder_name)\n",
    "        dictionary = {bytes([i]): i for i in range(256)}\n",
    "\n",
    "        # Codifica as imagens na pasta atual\n",
    "        for image_name in os.listdir(folder_dir):\n",
    "            image_path = os.path.join(folder_dir, image_name)\n",
    "\n",
    "            # Realiza a codificação LZW para cada imagem\n",
    "            lzw_encode(image_path, dictionary, max_dict_size)\n",
    "        \n",
    "        global dict_size\n",
    "        dict_size = 256\n",
    "\n",
    "        # Adiciona o dicionário da pasta à lista de dicionários\n",
    "        dictionaries.append((folder_name, dictionary))\n",
    "\n",
    "    return dictionaries"
   ]
  },
  {
   "cell_type": "code",
   "execution_count": 191,
   "metadata": {},
   "outputs": [],
   "source": [
    "# Diretório das pastas de imagens\n",
    "folder_path = diretorio_destino_treinamento\n",
    "# Tamanho máximo do dicionário (2^k)\n",
    "max_dict_size = 15\n",
    "# Codifica as imagens em todas as pastas e obtém a lista de dicionários\n",
    "all_dictionaries = encode_images_in_folders(folder_path, max_dict_size)"
   ]
  },
  {
   "cell_type": "code",
   "execution_count": 210,
   "metadata": {},
   "outputs": [
    {
     "name": "stdout",
     "output_type": "stream",
     "text": [
      "Dicionário da pasta 's30':\n",
      "Tamanho: 32768\n"
     ]
    }
   ],
   "source": [
    "folder_name, dictionary = all_dictionaries[3]\n",
    "print(f\"Dicionário da pasta '{folder_name}':\")\n",
    "print(f\"Tamanho: {len(dictionary)}\")"
   ]
  },
  {
   "attachments": {},
   "cell_type": "markdown",
   "metadata": {},
   "source": [
    "##### 3. Classificação das imagens de teste"
   ]
  },
  {
   "cell_type": "code",
   "execution_count": 193,
   "metadata": {},
   "outputs": [],
   "source": [
    "def lzw_encode(input_file, dictionary):\n",
    "    current_sequence = bytes()\n",
    "    encoded_data = []\n",
    "\n",
    "    with open(input_file, \"rb\") as file:\n",
    "        for symbol in file.read():\n",
    "            next_sequence = current_sequence + bytearray([symbol])\n",
    "            if bytes(next_sequence) in dictionary[1]:\n",
    "                current_sequence = next_sequence\n",
    "            else:\n",
    "                encoded_data.append(dictionary[1][bytes(current_sequence)])\n",
    "                current_sequence = bytearray([symbol])\n",
    "\n",
    "    encoded_data.append(dictionary[1][bytes(current_sequence)])\n",
    "    return encoded_data"
   ]
  },
  {
   "cell_type": "code",
   "execution_count": 194,
   "metadata": {},
   "outputs": [],
   "source": [
    "import struct"
   ]
  },
  {
   "cell_type": "code",
   "execution_count": 62,
   "metadata": {},
   "outputs": [],
   "source": [
    "def encode_images_in_folders(folder_path, dictionaries, output_folder):\n",
    "\n",
    "    os.makedirs(output_folder, exist_ok=True)\n",
    "\n",
    "    for folder_name in os.listdir(folder_path):\n",
    "        folder_dir = os.path.join(folder_path, folder_name)\n",
    "        encoded_data = []\n",
    "\n",
    "        for image_name in os.listdir(folder_dir):\n",
    "            image_path = os.path.join(folder_dir, image_name)\n",
    "\n",
    "            for dictionary in dictionaries:\n",
    "                encoded_data.extend(lzw_encode(image_path, dictionary))\n",
    "                encoded_file_path = os.path.join(output_folder, f\"{folder_name}_{image_name}_dict_{dictionary[0]}.bin\")\n",
    "                \n",
    "                with open(encoded_file_path, \"wb\") as output_file:\n",
    "                    for value in encoded_data:\n",
    "                        output_file.write(struct.pack(\"H\", value))"
   ]
  },
  {
   "cell_type": "code",
   "execution_count": 196,
   "metadata": {},
   "outputs": [],
   "source": [
    "# Definir os caminhos das pastas de entrada, onde estão localizadas as imagens\n",
    "folder_path = diretorio_destino_teste\n",
    "\n",
    "# Caminho para salvar os arquivos binários gerados para cada valor de k\n",
    "output_folder = \"/home/franklin/Documents/academic/Eng. de Computação/P8/Intro. à Teo. da Informação/Projeto/parte-2/encode-decode-lzw/output/k_15\"\n",
    "\n",
    "# Lista de tuplas contendo os dicionários e suas classes associadas\n",
    "dictionaries = all_dictionaries"
   ]
  },
  {
   "cell_type": "code",
   "execution_count": 197,
   "metadata": {},
   "outputs": [],
   "source": [
    "# Codificar as imagens nas pastas usando os dicionários especificados\n",
    "encode_images_in_folders(folder_path, dictionaries, output_folder)"
   ]
  },
  {
   "attachments": {},
   "cell_type": "markdown",
   "metadata": {},
   "source": [
    "##### 4. Avaliação do modelo para cada valor de k"
   ]
  },
  {
   "cell_type": "code",
   "execution_count": 208,
   "metadata": {},
   "outputs": [],
   "source": [
    "def calculate_counts(output_folder):\n",
    "    counts = [0] * 8  # Lista para armazenar os contadores das subpastas k_i (índices de 1 a 8)\n",
    "\n",
    "    for i in range(1, 41):\n",
    "        prefix = f\"s{i}_\"\n",
    "\n",
    "        for j in range(1, 41):\n",
    "            dict_file_name = f\"{prefix}{j}.pgm_dict_s{i}.bin\"\n",
    "            dict_file_path = os.path.join(output_folder, dict_file_name)\n",
    "\n",
    "            # Verifica se o arquivo dict_i existe\n",
    "            if os.path.exists(dict_file_path):\n",
    "                dict_size = os.path.getsize(dict_file_path)\n",
    "\n",
    "                # Verifica se o arquivo dict_i é o menor entre os demais arquivos do mesmo prefixo\n",
    "                for k in range(1, 41):\n",
    "                    file_name = f\"{prefix}{k}.pgm_dict_s{j}.bin\"\n",
    "                    file_path = os.path.join(output_folder, file_name)\n",
    "\n",
    "                    if os.path.exists(file_path) and os.path.getsize(file_path) < dict_size:\n",
    "                        break\n",
    "                else:\n",
    "                    counts[j - 9] += 1\n",
    "\n",
    "    # Divide os contadores por 40\n",
    "    counts = [round(count / 40, 4) for count in counts]\n",
    "    return counts"
   ]
  },
  {
   "cell_type": "code",
   "execution_count": 209,
   "metadata": {},
   "outputs": [
    {
     "name": "stdout",
     "output_type": "stream",
     "text": [
      "A subpasta k_9 possui 2.0 arquivo(s) codificado(s) 'corretamente', com acurácia 0.05\n",
      "A subpasta k_10 possui 3.0 arquivo(s) codificado(s) 'corretamente', com acurácia 0.075\n",
      "A subpasta k_11 possui 4.0 arquivo(s) codificado(s) 'corretamente', com acurácia 0.1\n",
      "A subpasta k_12 possui 3.0 arquivo(s) codificado(s) 'corretamente', com acurácia 0.075\n",
      "A subpasta k_13 possui 1.0 arquivo(s) codificado(s) 'corretamente', com acurácia 0.025\n",
      "A subpasta k_14 possui 2.0 arquivo(s) codificado(s) 'corretamente', com acurácia 0.05\n",
      "A subpasta k_15 possui 0.0 arquivo(s) codificado(s) 'corretamente', com acurácia 0.0\n",
      "A subpasta k_16 possui 0.0 arquivo(s) codificado(s) 'corretamente', com acurácia 0.0\n"
     ]
    }
   ],
   "source": [
    "# Exemplo de uso\n",
    "output_folder = output_folder\n",
    "counts = calculate_counts(output_folder)\n",
    "\n",
    "for i, count in enumerate(counts):\n",
    "    subfolder_name = f\"k_{i + 9}\"\n",
    "    print(f\"A subpasta {subfolder_name} possui {count * 40} arquivo(s) codificado(s) 'corretamente', com acurácia {count}\")"
   ]
  }
 ],
 "metadata": {
  "kernelspec": {
   "display_name": "Python 3.10.11 64-bit",
   "language": "python",
   "name": "python3"
  },
  "language_info": {
   "codemirror_mode": {
    "name": "ipython",
    "version": 3
   },
   "file_extension": ".py",
   "mimetype": "text/x-python",
   "name": "python",
   "nbconvert_exporter": "python",
   "pygments_lexer": "ipython3",
   "version": "3.7.6"
  },
  "orig_nbformat": 4,
  "vscode": {
   "interpreter": {
    "hash": "fa383bd5795343d120c9e49001a7b53fdba01cb5a23d5230dcdce1ac3d12b910"
   }
  }
 },
 "nbformat": 4,
 "nbformat_minor": 2
}
