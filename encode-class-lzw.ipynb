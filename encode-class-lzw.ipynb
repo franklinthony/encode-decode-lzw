{
 "cells": [
  {
   "attachments": {},
   "cell_type": "markdown",
   "metadata": {},
   "source": [
    "### **Reconhecedor de padrões baseado em LZW**"
   ]
  },
  {
   "attachments": {},
   "cell_type": "markdown",
   "metadata": {},
   "source": [
    "#### Pré-processamento das imagens"
   ]
  },
  {
   "attachments": {},
   "cell_type": "markdown",
   "metadata": {},
   "source": [
    "##### 1. Retirada do cabeçalho dos dados"
   ]
  },
  {
   "cell_type": "code",
   "execution_count": 9,
   "metadata": {},
   "outputs": [],
   "source": [
    "import os"
   ]
  },
  {
   "cell_type": "code",
   "execution_count": 2,
   "metadata": {},
   "outputs": [],
   "source": [
    "# Diretório de origem\n",
    "diretorio_origem = r\"C:\\Users\\franklin.coelho\\Documents\\encode-decode-lzw\\db\\orl_faces\"\n",
    "\n",
    "# Diretório de destino\n",
    "diretorio_destino = r\"C:\\Users\\franklin.coelho\\Documents\\encode-decode-lzw\\db\\orl_faces_sc\""
   ]
  },
  {
   "cell_type": "code",
   "execution_count": 3,
   "metadata": {},
   "outputs": [],
   "source": [
    "# Percorre todas as subpastas no diretório de origem\n",
    "for subpasta in os.listdir(diretorio_origem):\n",
    "    caminho_subpasta = os.path.join(diretorio_origem, subpasta)\n",
    "\n",
    "    # Cria a subpasta correspondente no diretório de destino\n",
    "    caminho_destino_subpasta = os.path.join(diretorio_destino, subpasta)\n",
    "    os.makedirs(caminho_destino_subpasta, exist_ok=True)\n",
    "\n",
    "    # Percorre os arquivos de imagem na subpasta atual\n",
    "    for arquivo in os.listdir(caminho_subpasta):\n",
    "        if arquivo.endswith(\".pgm\"):\n",
    "            caminho_arquivo_origem = os.path.join(caminho_subpasta, arquivo)\n",
    "\n",
    "            # Abre o arquivo de origem em modo binário\n",
    "            with open(caminho_arquivo_origem, \"rb\") as arquivo_origem:\n",
    "                dados = arquivo_origem.read()\n",
    "\n",
    "            # Remove as três primeiras linhas\n",
    "            novos_dados = dados.split(b\"\\n\", 3)[-1]\n",
    "\n",
    "            # Cria o caminho do arquivo de destino\n",
    "            caminho_arquivo_destino = os.path.join(caminho_destino_subpasta, arquivo)\n",
    "\n",
    "            # Salva os novos dados no arquivo de destino em modo binário\n",
    "            with open(caminho_arquivo_destino, \"wb\") as arquivo_destino:\n",
    "                arquivo_destino.write(novos_dados)"
   ]
  },
  {
   "attachments": {},
   "cell_type": "markdown",
   "metadata": {},
   "source": [
    "#### Geração dos modelos"
   ]
  },
  {
   "attachments": {},
   "cell_type": "markdown",
   "metadata": {},
   "source": [
    "##### 1. Divisão aleatória do banco entre instâncias de \"treinamento\" e \"teste\""
   ]
  },
  {
   "cell_type": "code",
   "execution_count": 4,
   "metadata": {},
   "outputs": [],
   "source": [
    "import shutil\n",
    "import random"
   ]
  },
  {
   "cell_type": "code",
   "execution_count": 2,
   "metadata": {},
   "outputs": [],
   "source": [
    "# Diretório de origem\n",
    "diretorio_origem = r\"C:\\Users\\franklin.coelho\\Documents\\encode-decode-lzw\\db\\orl_faces_sc\"\n",
    "\n",
    "# Diretório de destino para treinamento\n",
    "diretorio_destino_treinamento = r\"C:\\Users\\franklin.coelho\\Documents\\encode-decode-lzw\\db\\orl_faces_div\\train\"\n",
    "\n",
    "# Diretório de destino para teste\n",
    "diretorio_destino_teste = r\"C:\\Users\\franklin.coelho\\Documents\\encode-decode-lzw\\db\\orl_faces_div\\test\"\n",
    "\n",
    "# Porcentagem de imagens para treinamento (90%)\n",
    "porcentagem_treinamento = 0.9"
   ]
  },
  {
   "cell_type": "code",
   "execution_count": 6,
   "metadata": {},
   "outputs": [],
   "source": [
    "# Exclui os diretórios de destino, se já existirem\n",
    "if os.path.exists(diretorio_destino_treinamento):\n",
    "    shutil.rmtree(diretorio_destino_treinamento)\n",
    "if os.path.exists(diretorio_destino_teste):\n",
    "    shutil.rmtree(diretorio_destino_teste)"
   ]
  },
  {
   "cell_type": "code",
   "execution_count": 7,
   "metadata": {},
   "outputs": [],
   "source": [
    "# Percorre todas as subpastas no diretório de origem\n",
    "for subpasta in os.listdir(diretorio_origem):\n",
    "    caminho_subpasta_origem = os.path.join(diretorio_origem, subpasta)\n",
    "\n",
    "    # Cria a subpasta correspondente no diretório de destino para treinamento\n",
    "    caminho_subpasta_destino_treinamento = os.path.join(diretorio_destino_treinamento, subpasta)\n",
    "    os.makedirs(caminho_subpasta_destino_treinamento)\n",
    "\n",
    "    # Cria a subpasta correspondente no diretório de destino para teste\n",
    "    caminho_subpasta_destino_teste = os.path.join(diretorio_destino_teste, subpasta)\n",
    "    os.makedirs(caminho_subpasta_destino_teste)\n",
    "\n",
    "    # Lista os arquivos na subpasta atual\n",
    "    arquivos = os.listdir(caminho_subpasta_origem)\n",
    "    random.shuffle(arquivos)  # Embaralha a ordem dos arquivos\n",
    "\n",
    "    # Calcula o número de arquivos para treinamento e teste\n",
    "    num_arquivos_treinamento = int(len(arquivos) * porcentagem_treinamento)\n",
    "    num_arquivos_teste = len(arquivos) - num_arquivos_treinamento\n",
    "\n",
    "    # Divide os arquivos entre treinamento e teste\n",
    "    arquivos_treinamento = arquivos[:num_arquivos_treinamento]\n",
    "    arquivos_teste = arquivos[num_arquivos_treinamento:]\n",
    "\n",
    "    # Move os arquivos para as respectivas pastas de treinamento e teste\n",
    "    for arquivo in arquivos_treinamento:\n",
    "        caminho_arquivo_origem = os.path.join(caminho_subpasta_origem, arquivo)\n",
    "        caminho_arquivo_destino = os.path.join(caminho_subpasta_destino_treinamento, arquivo)\n",
    "        shutil.copyfile(caminho_arquivo_origem, caminho_arquivo_destino)\n",
    "\n",
    "    for arquivo in arquivos_teste:\n",
    "        caminho_arquivo_origem = os.path.join(caminho_subpasta_origem, arquivo)\n",
    "        caminho_arquivo_destino = os.path.join(caminho_subpasta_destino_teste, arquivo)\n",
    "        shutil.copyfile(caminho_arquivo_origem, caminho_arquivo_destino)"
   ]
  },
  {
   "attachments": {},
   "cell_type": "markdown",
   "metadata": {},
   "source": [
    "##### 2. Construção dos modelos/dicionários para cada classe"
   ]
  },
  {
   "cell_type": "code",
   "execution_count": 10,
   "metadata": {},
   "outputs": [],
   "source": [
    "dict_size = 256"
   ]
  },
  {
   "cell_type": "code",
   "execution_count": 11,
   "metadata": {},
   "outputs": [],
   "source": [
    "def lzw_encode(input_file, dictionary, max_dict_size):\n",
    "    current_sequence = bytes()\n",
    "    global dict_size\n",
    "\n",
    "    with open(input_file, \"rb\") as file:\n",
    "        while True:\n",
    "            symbol = file.read(1)\n",
    "            if not symbol:\n",
    "                break\n",
    "\n",
    "            next_sequence = current_sequence + symbol\n",
    "            if next_sequence in dictionary:\n",
    "                current_sequence = next_sequence\n",
    "            else:\n",
    "                if dict_size < 2 ** max_dict_size:\n",
    "                    dictionary[next_sequence] = dict_size\n",
    "                    dict_size += 1\n",
    "                current_sequence = symbol"
   ]
  },
  {
   "cell_type": "code",
   "execution_count": 12,
   "metadata": {},
   "outputs": [],
   "source": [
    "def encode_images_in_folders(folder_path, max_dict_size):\n",
    "    dictionaries = []\n",
    "\n",
    "    # Verifica se o tamanho máximo do dicionário está dentro do intervalo válido\n",
    "    if not (9 <= max_dict_size <= 16):\n",
    "        raise ValueError(\"O tamanho máximo do dicionário deve estar entre 9 e 16.\")\n",
    "\n",
    "    # Percorre todas as pastas\n",
    "    for folder_name in os.listdir(folder_path):\n",
    "        folder_dir = os.path.join(folder_path, folder_name)\n",
    "        dictionary = {bytes([i]): i for i in range(256)}\n",
    "\n",
    "        # Codifica as imagens na pasta atual\n",
    "        for image_name in os.listdir(folder_dir):\n",
    "            image_path = os.path.join(folder_dir, image_name)\n",
    "\n",
    "            # Realiza a codificação LZW para cada imagem\n",
    "            lzw_encode(image_path, dictionary, max_dict_size)\n",
    "        \n",
    "        global dict_size\n",
    "        dict_size = 256\n",
    "\n",
    "        # Adiciona o dicionário da pasta à lista de dicionários\n",
    "        dictionaries.append((folder_name, dictionary))\n",
    "\n",
    "    return dictionaries"
   ]
  },
  {
   "cell_type": "code",
   "execution_count": 13,
   "metadata": {},
   "outputs": [],
   "source": [
    "# Diretório das pastas de imagens\n",
    "folder_path = diretorio_destino_treinamento\n",
    "# Tamanho máximo do dicionário (2^k)\n",
    "max_dict_size = 16\n",
    "# Codifica as imagens em todas as pastas e obtém a lista de dicionários\n",
    "all_dictionaries = encode_images_in_folders(folder_path, max_dict_size)"
   ]
  },
  {
   "cell_type": "code",
   "execution_count": 14,
   "metadata": {},
   "outputs": [
    {
     "name": "stdout",
     "output_type": "stream",
     "text": [
      "Dicionário da pasta 's16'\n",
      "Tamanho: 49937\n"
     ]
    }
   ],
   "source": [
    "folder_name, dictionary = all_dictionaries[7]\n",
    "print(f\"Dicionário da pasta '{folder_name}'\")\n",
    "print(f\"Tamanho: {len(dictionary)}\")"
   ]
  },
  {
   "attachments": {},
   "cell_type": "markdown",
   "metadata": {},
   "source": [
    "##### 3. Classificação das imagens de teste"
   ]
  },
  {
   "cell_type": "code",
   "execution_count": 15,
   "metadata": {},
   "outputs": [],
   "source": [
    "def lzw_encode(input_file, dictionary):\n",
    "    current_sequence = bytes()\n",
    "    encoded_data = []\n",
    "\n",
    "    with open(input_file, \"rb\") as file:\n",
    "        for symbol in file.read():\n",
    "            next_sequence = current_sequence + bytearray([symbol])\n",
    "            if bytes(next_sequence) in dictionary[1]:\n",
    "                current_sequence = next_sequence\n",
    "            else:\n",
    "                encoded_data.append(dictionary[1][bytes(current_sequence)])\n",
    "                current_sequence = bytearray([symbol])\n",
    "\n",
    "    encoded_data.append(dictionary[1][bytes(current_sequence)])\n",
    "    return encoded_data"
   ]
  },
  {
   "cell_type": "code",
   "execution_count": 16,
   "metadata": {},
   "outputs": [],
   "source": [
    "import struct"
   ]
  },
  {
   "cell_type": "code",
   "execution_count": 17,
   "metadata": {},
   "outputs": [],
   "source": [
    "def encode_images_in_folders(folder_path, dictionaries, output_folder):\n",
    "\n",
    "    os.makedirs(output_folder, exist_ok=True)\n",
    "\n",
    "    for folder_name in os.listdir(folder_path):\n",
    "        folder_dir = os.path.join(folder_path, folder_name)\n",
    "        encoded_data = []\n",
    "\n",
    "        for image_name in os.listdir(folder_dir):\n",
    "            image_path = os.path.join(folder_dir, image_name)\n",
    "\n",
    "            for dictionary in dictionaries:\n",
    "                encoded_data = lzw_encode(image_path, dictionary)\n",
    "                encoded_file_path = os.path.join(output_folder, f\"{folder_name}_{image_name}_dict_{dictionary[0]}.bin\")\n",
    "                \n",
    "                with open(encoded_file_path, \"wb\") as output_file:\n",
    "                    for value in encoded_data:\n",
    "                        output_file.write(struct.pack(\"H\", value))"
   ]
  },
  {
   "cell_type": "code",
   "execution_count": 18,
   "metadata": {},
   "outputs": [],
   "source": [
    "# Definir os caminhos das pastas de entrada, onde estão localizadas as imagens\n",
    "folder_path = diretorio_destino_teste\n",
    "\n",
    "# Caminho para salvar os arquivos binários gerados para cada valor de k\n",
    "output_folder = r\"C:\\Users\\franklin.coelho\\Documents\\encode-decode-lzw\\output\\k_16\"\n",
    "\n",
    "# Lista de tuplas contendo os dicionários e suas classes associadas\n",
    "dictionaries = all_dictionaries"
   ]
  },
  {
   "cell_type": "code",
   "execution_count": 104,
   "metadata": {},
   "outputs": [],
   "source": [
    "# Codificar as imagens nas pastas usando os dicionários especificados\n",
    "encode_images_in_folders(folder_path, dictionaries, output_folder)"
   ]
  },
  {
   "attachments": {},
   "cell_type": "markdown",
   "metadata": {},
   "source": [
    "##### 4. Avaliação do modelo para cada valor de k"
   ]
  },
  {
   "cell_type": "code",
   "execution_count": 19,
   "metadata": {},
   "outputs": [],
   "source": [
    "def find_smallest_files(folder_path, batch_size):\n",
    "    smallest_files = {}\n",
    "\n",
    "    # Obtém a lista de todos os arquivos da pasta e ordena em ordem alfabética\n",
    "    all_files = sorted(os.listdir(folder_path))\n",
    "\n",
    "    # Itera sobre os lotes de imagens\n",
    "    for batch_start in range(0, len(all_files), batch_size):\n",
    "        batch_end = batch_start + batch_size\n",
    "        batch_files = []\n",
    "\n",
    "        # Obtém os nomes dos arquivos do lote atual\n",
    "        for file_name in all_files[batch_start:batch_end]:\n",
    "            file_path = os.path.join(folder_path, file_name)\n",
    "            if os.path.isfile(file_path):\n",
    "                batch_files.append(file_path)\n",
    "\n",
    "        if batch_files:\n",
    "            smallest_file = min(batch_files, key=lambda x: os.path.getsize(x))\n",
    "            batch_number = batch_start // batch_size\n",
    "            smallest_files[batch_number] = os.path.basename(smallest_file)\n",
    "\n",
    "    # Verifica se os menores arquivos possuem o prefixo correspondente ao sufixo \"si.bin\"\n",
    "    matching_files = {}\n",
    "    for batch_number, file_name in smallest_files.items():\n",
    "        prefix = file_name.split(\"_\")[0]\n",
    "        suffix = f\"{prefix}.bin\"\n",
    "        if file_name.endswith(suffix):\n",
    "            matching_files[batch_number] = file_name\n",
    "\n",
    "    return matching_files"
   ]
  },
  {
   "cell_type": "code",
   "execution_count": 20,
   "metadata": {},
   "outputs": [
    {
     "name": "stdout",
     "output_type": "stream",
     "text": [
      "No lote 1: menor arquivo é s10_8.pgm_dict_s10.bin e indica acerto\n",
      "No lote 2: menor arquivo é s11_3.pgm_dict_s11.bin e indica acerto\n",
      "No lote 3: menor arquivo é s12_5.pgm_dict_s12.bin e indica acerto\n",
      "No lote 4: menor arquivo é s13_2.pgm_dict_s13.bin e indica acerto\n",
      "No lote 5: menor arquivo é s14_8.pgm_dict_s14.bin e indica acerto\n",
      "No lote 6: menor arquivo é s15_10.pgm_dict_s15.bin e indica acerto\n",
      "No lote 7: menor arquivo é s16_3.pgm_dict_s16.bin e indica acerto\n",
      "No lote 8: menor arquivo é s17_8.pgm_dict_s17.bin e indica acerto\n",
      "No lote 9: menor arquivo é s18_10.pgm_dict_s18.bin e indica acerto\n",
      "No lote 10: menor arquivo é s19_6.pgm_dict_s19.bin e indica acerto\n",
      "No lote 11: menor arquivo é s1_5.pgm_dict_s1.bin e indica acerto\n",
      "No lote 12: menor arquivo é s20_1.pgm_dict_s20.bin e indica acerto\n",
      "No lote 13: menor arquivo é s21_1.pgm_dict_s21.bin e indica acerto\n",
      "No lote 14: menor arquivo é s22_9.pgm_dict_s22.bin e indica acerto\n",
      "No lote 15: menor arquivo é s23_10.pgm_dict_s23.bin e indica acerto\n",
      "No lote 16: menor arquivo é s24_1.pgm_dict_s24.bin e indica acerto\n",
      "No lote 17: menor arquivo é s25_5.pgm_dict_s25.bin e indica acerto\n",
      "No lote 19: menor arquivo é s27_10.pgm_dict_s27.bin e indica acerto\n",
      "No lote 21: menor arquivo é s29_3.pgm_dict_s29.bin e indica acerto\n",
      "No lote 22: menor arquivo é s2_4.pgm_dict_s2.bin e indica acerto\n",
      "No lote 23: menor arquivo é s30_5.pgm_dict_s30.bin e indica acerto\n",
      "No lote 24: menor arquivo é s31_4.pgm_dict_s31.bin e indica acerto\n",
      "No lote 25: menor arquivo é s32_10.pgm_dict_s32.bin e indica acerto\n",
      "No lote 26: menor arquivo é s33_7.pgm_dict_s33.bin e indica acerto\n",
      "No lote 27: menor arquivo é s34_7.pgm_dict_s34.bin e indica acerto\n",
      "No lote 28: menor arquivo é s35_5.pgm_dict_s35.bin e indica acerto\n",
      "No lote 30: menor arquivo é s37_1.pgm_dict_s37.bin e indica acerto\n",
      "No lote 32: menor arquivo é s39_3.pgm_dict_s39.bin e indica acerto\n",
      "No lote 33: menor arquivo é s3_9.pgm_dict_s3.bin e indica acerto\n",
      "No lote 34: menor arquivo é s40_2.pgm_dict_s40.bin e indica acerto\n",
      "No lote 35: menor arquivo é s4_10.pgm_dict_s4.bin e indica acerto\n",
      "No lote 36: menor arquivo é s5_5.pgm_dict_s5.bin e indica acerto\n",
      "No lote 37: menor arquivo é s6_8.pgm_dict_s6.bin e indica acerto\n",
      "No lote 38: menor arquivo é s7_7.pgm_dict_s7.bin e indica acerto\n",
      "No lote 39: menor arquivo é s8_8.pgm_dict_s8.bin e indica acerto\n",
      "No lote 40: menor arquivo é s9_6.pgm_dict_s9.bin e indica acerto\n"
     ]
    }
   ],
   "source": [
    "# Exemplo de uso\n",
    "folder_path = output_folder\n",
    "batch_size = 40\n",
    "matching_files = find_smallest_files(folder_path, batch_size)\n",
    "\n",
    "for batch_number, file_name in matching_files.items():\n",
    "    print(f\"No lote {batch_number + 1}: menor arquivo é {file_name} e indica acerto\")"
   ]
  },
  {
   "cell_type": "code",
   "execution_count": 21,
   "metadata": {},
   "outputs": [
    {
     "name": "stdout",
     "output_type": "stream",
     "text": [
      "Acurácia para 'C:\\Users\\franklin.coelho\\Documents\\encode-decode-lzw\\output\\k_16': 90.0%\n"
     ]
    }
   ],
   "source": [
    "result = round(len(matching_files.items()) / 40, 4)\n",
    "\n",
    "print(f\"Acurácia para '{folder_path}': {result * 100}%\")"
   ]
  }
 ],
 "metadata": {
  "kernelspec": {
   "display_name": "Python 3.10.11 64-bit",
   "language": "python",
   "name": "python3"
  },
  "language_info": {
   "codemirror_mode": {
    "name": "ipython",
    "version": 3
   },
   "file_extension": ".py",
   "mimetype": "text/x-python",
   "name": "python",
   "nbconvert_exporter": "python",
   "pygments_lexer": "ipython3",
   "version": "3.9.12"
  },
  "orig_nbformat": 4,
  "vscode": {
   "interpreter": {
    "hash": "fa383bd5795343d120c9e49001a7b53fdba01cb5a23d5230dcdce1ac3d12b910"
   }
  }
 },
 "nbformat": 4,
 "nbformat_minor": 2
}
