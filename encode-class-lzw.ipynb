{
 "cells": [
  {
   "attachments": {},
   "cell_type": "markdown",
   "metadata": {},
   "source": [
    "> ### Reconhecedor de padrões baseado em LZW"
   ]
  },
  {
   "attachments": {},
   "cell_type": "markdown",
   "metadata": {},
   "source": [
    "#### Pré-processamento das imagens"
   ]
  },
  {
   "attachments": {},
   "cell_type": "markdown",
   "metadata": {},
   "source": [
    "##### 1. Retirada do cabeçalho dos dados"
   ]
  },
  {
   "cell_type": "code",
   "execution_count": 23,
   "metadata": {},
   "outputs": [],
   "source": [
    "import os"
   ]
  },
  {
   "cell_type": "code",
   "execution_count": 48,
   "metadata": {},
   "outputs": [],
   "source": [
    "# Diretório de origem\n",
    "diretorio_origem = \"/home/franklin/Documents/academic/Eng. de Computação/P8/Intro. à Teo. da Informação/Projeto/parte-2/encode-decode-lzw/db/orl_faces/\"\n",
    "\n",
    "# Diretório de destino\n",
    "diretorio_destino = \"/home/franklin/Documents/academic/Eng. de Computação/P8/Intro. à Teo. da Informação/Projeto/parte-2/encode-decode-lzw/db/orl_faces_sc\""
   ]
  },
  {
   "cell_type": "code",
   "execution_count": 25,
   "metadata": {},
   "outputs": [],
   "source": [
    "# Percorre todas as subpastas no diretório de origem\n",
    "for subpasta in os.listdir(diretorio_origem):\n",
    "    caminho_subpasta = os.path.join(diretorio_origem, subpasta)\n",
    "\n",
    "    # Cria a subpasta correspondente no diretório de destino\n",
    "    caminho_destino_subpasta = os.path.join(diretorio_destino, subpasta)\n",
    "    os.makedirs(caminho_destino_subpasta, exist_ok=True)\n",
    "\n",
    "    # Percorre os arquivos de imagem na subpasta atual\n",
    "    for arquivo in os.listdir(caminho_subpasta):\n",
    "        if arquivo.endswith(\".pgm\"):\n",
    "            caminho_arquivo_origem = os.path.join(caminho_subpasta, arquivo)\n",
    "\n",
    "            # Abre o arquivo de origem em modo binário\n",
    "            with open(caminho_arquivo_origem, \"rb\") as arquivo_origem:\n",
    "                dados = arquivo_origem.read()\n",
    "\n",
    "            # Remove as três primeiras linhas\n",
    "            novos_dados = dados.split(b\"\\n\", 3)[-1]\n",
    "\n",
    "            # Cria o caminho do arquivo de destino\n",
    "            caminho_arquivo_destino = os.path.join(caminho_destino_subpasta, arquivo)\n",
    "\n",
    "            # Salva os novos dados no arquivo de destino em modo binário\n",
    "            with open(caminho_arquivo_destino, \"wb\") as arquivo_destino:\n",
    "                arquivo_destino.write(novos_dados)"
   ]
  },
  {
   "attachments": {},
   "cell_type": "markdown",
   "metadata": {},
   "source": [
    "#### Geração dos modelos"
   ]
  },
  {
   "attachments": {},
   "cell_type": "markdown",
   "metadata": {},
   "source": [
    "##### 1. Divisão aleatória do banco entre instâncias de \"treinamento\" e \"teste\" - **ocorre a cada novo valor de k**"
   ]
  },
  {
   "cell_type": "code",
   "execution_count": 42,
   "metadata": {},
   "outputs": [],
   "source": [
    "import os\n",
    "import shutil\n",
    "import random"
   ]
  },
  {
   "cell_type": "code",
   "execution_count": 43,
   "metadata": {},
   "outputs": [],
   "source": [
    "# Diretório de origem\n",
    "diretorio_origem = \"/home/franklin/Documents/academic/Eng. de Computação/P8/Intro. à Teo. da Informação/Projeto/parte-2/encode-decode-lzw/db/orl_faces_sc\"\n",
    "\n",
    "# Diretório de destino para treinamento\n",
    "diretorio_destino_treinamento = \"/home/franklin/Documents/academic/Eng. de Computação/P8/Intro. à Teo. da Informação/Projeto/parte-2/encode-decode-lzw/db/orl_faces_div/train\"\n",
    "\n",
    "# Diretório de destino para teste\n",
    "diretorio_destino_teste = \"/home/franklin/Documents/academic/Eng. de Computação/P8/Intro. à Teo. da Informação/Projeto/parte-2/encode-decode-lzw/db/orl_faces_div/test\"\n",
    "\n",
    "# Porcentagem de imagens para treinamento (90%)\n",
    "porcentagem_treinamento = 0.9"
   ]
  },
  {
   "cell_type": "code",
   "execution_count": 51,
   "metadata": {},
   "outputs": [],
   "source": [
    "# Exclui os diretórios de destino, se já existirem\n",
    "if os.path.exists(diretorio_destino_treinamento):\n",
    "    shutil.rmtree(diretorio_destino_treinamento)\n",
    "if os.path.exists(diretorio_destino_teste):\n",
    "    shutil.rmtree(diretorio_destino_teste)"
   ]
  },
  {
   "cell_type": "code",
   "execution_count": 52,
   "metadata": {},
   "outputs": [],
   "source": [
    "# Percorre todas as subpastas no diretório de origem\n",
    "for subpasta in os.listdir(diretorio_origem):\n",
    "    caminho_subpasta_origem = os.path.join(diretorio_origem, subpasta)\n",
    "\n",
    "    # Cria a subpasta correspondente no diretório de destino para treinamento\n",
    "    caminho_subpasta_destino_treinamento = os.path.join(diretorio_destino_treinamento, subpasta)\n",
    "    os.makedirs(caminho_subpasta_destino_treinamento)\n",
    "\n",
    "    # Cria a subpasta correspondente no diretório de destino para teste\n",
    "    caminho_subpasta_destino_teste = os.path.join(diretorio_destino_teste, subpasta)\n",
    "    os.makedirs(caminho_subpasta_destino_teste)\n",
    "\n",
    "    # Lista os arquivos na subpasta atual\n",
    "    arquivos = os.listdir(caminho_subpasta_origem)\n",
    "    random.shuffle(arquivos)  # Embaralha a ordem dos arquivos\n",
    "\n",
    "    # Calcula o número de arquivos para treinamento e teste\n",
    "    num_arquivos_treinamento = int(len(arquivos) * porcentagem_treinamento)\n",
    "    num_arquivos_teste = len(arquivos) - num_arquivos_treinamento\n",
    "\n",
    "    # Divide os arquivos entre treinamento e teste\n",
    "    arquivos_treinamento = arquivos[:num_arquivos_treinamento]\n",
    "    arquivos_teste = arquivos[num_arquivos_treinamento:]\n",
    "\n",
    "    # Move os arquivos para as respectivas pastas de treinamento e teste\n",
    "    for arquivo in arquivos_treinamento:\n",
    "        caminho_arquivo_origem = os.path.join(caminho_subpasta_origem, arquivo)\n",
    "        caminho_arquivo_destino = os.path.join(caminho_subpasta_destino_treinamento, arquivo)\n",
    "        shutil.copyfile(caminho_arquivo_origem, caminho_arquivo_destino)\n",
    "\n",
    "    for arquivo in arquivos_teste:\n",
    "        caminho_arquivo_origem = os.path.join(caminho_subpasta_origem, arquivo)\n",
    "        caminho_arquivo_destino = os.path.join(caminho_subpasta_destino_teste, arquivo)\n",
    "        shutil.copyfile(caminho_arquivo_origem, caminho_arquivo_destino)"
   ]
  },
  {
   "attachments": {},
   "cell_type": "markdown",
   "metadata": {},
   "source": [
    "##### 2. Construção dos modelos para cada classe"
   ]
  },
  {
   "cell_type": "code",
   "execution_count": 16,
   "metadata": {},
   "outputs": [],
   "source": [
    "def lzw_encode(input_file, max_dict_size, type_process, n_loop):\n",
    "    if type_process == 0 and n_loop == 0:\n",
    "        # Inicializa o dicionário LZW com todos os caracteres ASCII possíveis\n",
    "        dict_size = 256\n",
    "        dictionary = {bytes([i]): i for i in range(dict_size)}\n",
    "        current_sequence = bytes()\n",
    "    else if type_process == 0 and n_loop > 0:\n",
    "        dictionary = dictionary\n",
    "    \n",
    "    with open(input_file, \"rb\") as file, open(\"output.bin\", \"wb\") as output_file:\n",
    "        # Codifica cada símbolo da entrada\n",
    "        while True:\n",
    "            symbol = file.read(1)\n",
    "            if not symbol:\n",
    "                break\n",
    "                \n",
    "            # Acrescenta o próximo símbolo à sequência atual\n",
    "            next_sequence = current_sequence + symbol # BYTE\n",
    "            # Se a próxima sequência estiver no dicionário, continua acrescentando símbolos\n",
    "            # até chegar a uma sequência que não esteja no dicionário\n",
    "            if next_sequence in dictionary:\n",
    "                current_sequence = next_sequence\n",
    "            else:\n",
    "                # Codifica a sequência atual e adiciona a nova sequência ao dicionário\n",
    "                encoded_sequence = dictionary[current_sequence]\n",
    "                output_file.write(encoded_sequence.to_bytes(2, byteorder=\"big\"))\n",
    "                \n",
    "                if type_process == 0:\n",
    "                    if dict_size < 2 ** max_dict_size:\n",
    "                        dictionary[next_sequence] = dict_size\n",
    "                        dict_size += 1\n",
    "                # Começa uma nova sequência com o último símbolo lido\n",
    "                current_sequence = symbol\n",
    "        if type_process == 0:\n",
    "            # Escreve o último código LZW no arquivo de saída\n",
    "            if current_sequence:\n",
    "                encoded_sequence = dictionary[current_sequence]\n",
    "                output_file.write(encoded_sequence.to_bytes(2, byteorder=\"big\"))"
   ]
  },
  {
   "cell_type": "code",
   "execution_count": null,
   "metadata": {},
   "outputs": [],
   "source": [
    "cont = 0\n",
    "for i in list_dict:\n",
    "    lzw_encode()\n",
    "    cont += 1"
   ]
  }
 ],
 "metadata": {
  "kernelspec": {
   "display_name": "Python 3.10.11 64-bit",
   "language": "python",
   "name": "python3"
  },
  "language_info": {
   "codemirror_mode": {
    "name": "ipython",
    "version": 3
   },
   "file_extension": ".py",
   "mimetype": "text/x-python",
   "name": "python",
   "nbconvert_exporter": "python",
   "pygments_lexer": "ipython3",
   "version": "3.7.6"
  },
  "orig_nbformat": 4,
  "vscode": {
   "interpreter": {
    "hash": "fa383bd5795343d120c9e49001a7b53fdba01cb5a23d5230dcdce1ac3d12b910"
   }
  }
 },
 "nbformat": 4,
 "nbformat_minor": 2
}
