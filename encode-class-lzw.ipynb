{
 "cells": [
  {
   "attachments": {},
   "cell_type": "markdown",
   "metadata": {},
   "source": [
    "### **Reconhecedor de padrões baseado em LZW**"
   ]
  },
  {
   "attachments": {},
   "cell_type": "markdown",
   "metadata": {},
   "source": [
    "#### Pré-processamento das imagens"
   ]
  },
  {
   "attachments": {},
   "cell_type": "markdown",
   "metadata": {},
   "source": [
    "##### 1. Retirada do cabeçalho dos dados"
   ]
  },
  {
   "cell_type": "code",
   "execution_count": 1,
   "metadata": {},
   "outputs": [],
   "source": [
    "import os"
   ]
  },
  {
   "cell_type": "code",
   "execution_count": 2,
   "metadata": {},
   "outputs": [],
   "source": [
    "# Diretório de origem\n",
    "diretorio_origem = r\"C:\\Users\\franklin.coelho\\Documents\\encode-decode-lzw\\db\\orl_faces\"\n",
    "\n",
    "# Diretório de destino\n",
    "diretorio_destino = r\"C:\\Users\\franklin.coelho\\Documents\\encode-decode-lzw\\db\\orl_faces_sc\""
   ]
  },
  {
   "cell_type": "code",
   "execution_count": 3,
   "metadata": {},
   "outputs": [],
   "source": [
    "# Percorre todas as subpastas no diretório de origem\n",
    "for subpasta in os.listdir(diretorio_origem):\n",
    "    caminho_subpasta = os.path.join(diretorio_origem, subpasta)\n",
    "\n",
    "    # Cria a subpasta correspondente no diretório de destino\n",
    "    caminho_destino_subpasta = os.path.join(diretorio_destino, subpasta)\n",
    "    os.makedirs(caminho_destino_subpasta, exist_ok=True)\n",
    "\n",
    "    # Percorre os arquivos de imagem na subpasta atual\n",
    "    for arquivo in os.listdir(caminho_subpasta):\n",
    "        if arquivo.endswith(\".pgm\"):\n",
    "            caminho_arquivo_origem = os.path.join(caminho_subpasta, arquivo)\n",
    "\n",
    "            # Abre o arquivo de origem em modo binário\n",
    "            with open(caminho_arquivo_origem, \"rb\") as arquivo_origem:\n",
    "                dados = arquivo_origem.read()\n",
    "\n",
    "            # Remove as três primeiras linhas\n",
    "            novos_dados = dados.split(b\"\\n\", 3)[-1]\n",
    "\n",
    "            # Cria o caminho do arquivo de destino\n",
    "            caminho_arquivo_destino = os.path.join(caminho_destino_subpasta, arquivo)\n",
    "\n",
    "            # Salva os novos dados no arquivo de destino em modo binário\n",
    "            with open(caminho_arquivo_destino, \"wb\") as arquivo_destino:\n",
    "                arquivo_destino.write(novos_dados)"
   ]
  },
  {
   "attachments": {},
   "cell_type": "markdown",
   "metadata": {},
   "source": [
    "#### Geração dos modelos"
   ]
  },
  {
   "attachments": {},
   "cell_type": "markdown",
   "metadata": {},
   "source": [
    "##### 1. Divisão aleatória do banco entre instâncias de \"treinamento\" e \"teste\" - **ocorre a cada novo valor de k**"
   ]
  },
  {
   "cell_type": "code",
   "execution_count": 4,
   "metadata": {},
   "outputs": [],
   "source": [
    "import os\n",
    "import shutil\n",
    "import random"
   ]
  },
  {
   "cell_type": "code",
   "execution_count": 5,
   "metadata": {},
   "outputs": [],
   "source": [
    "# Diretório de origem\n",
    "diretorio_origem = r\"C:\\Users\\franklin.coelho\\Documents\\encode-decode-lzw\\db\\orl_faces_sc\"\n",
    "\n",
    "# Diretório de destino para treinamento\n",
    "diretorio_destino_treinamento = r\"C:\\Users\\franklin.coelho\\Documents\\encode-decode-lzw\\db\\orl_faces_div\\train\"\n",
    "\n",
    "# Diretório de destino para teste\n",
    "diretorio_destino_teste = r\"C:\\Users\\franklin.coelho\\Documents\\encode-decode-lzw\\db\\orl_faces_div\\test\"\n",
    "\n",
    "# Porcentagem de imagens para treinamento (90%)\n",
    "porcentagem_treinamento = 0.9"
   ]
  },
  {
   "cell_type": "code",
   "execution_count": 6,
   "metadata": {},
   "outputs": [],
   "source": [
    "# Exclui os diretórios de destino, se já existirem\n",
    "if os.path.exists(diretorio_destino_treinamento):\n",
    "    shutil.rmtree(diretorio_destino_treinamento)\n",
    "if os.path.exists(diretorio_destino_teste):\n",
    "    shutil.rmtree(diretorio_destino_teste)"
   ]
  },
  {
   "cell_type": "code",
   "execution_count": 7,
   "metadata": {},
   "outputs": [],
   "source": [
    "# Percorre todas as subpastas no diretório de origem\n",
    "for subpasta in os.listdir(diretorio_origem):\n",
    "    caminho_subpasta_origem = os.path.join(diretorio_origem, subpasta)\n",
    "\n",
    "    # Cria a subpasta correspondente no diretório de destino para treinamento\n",
    "    caminho_subpasta_destino_treinamento = os.path.join(diretorio_destino_treinamento, subpasta)\n",
    "    os.makedirs(caminho_subpasta_destino_treinamento)\n",
    "\n",
    "    # Cria a subpasta correspondente no diretório de destino para teste\n",
    "    caminho_subpasta_destino_teste = os.path.join(diretorio_destino_teste, subpasta)\n",
    "    os.makedirs(caminho_subpasta_destino_teste)\n",
    "\n",
    "    # Lista os arquivos na subpasta atual\n",
    "    arquivos = os.listdir(caminho_subpasta_origem)\n",
    "    random.shuffle(arquivos)  # Embaralha a ordem dos arquivos\n",
    "\n",
    "    # Calcula o número de arquivos para treinamento e teste\n",
    "    num_arquivos_treinamento = int(len(arquivos) * porcentagem_treinamento)\n",
    "    num_arquivos_teste = len(arquivos) - num_arquivos_treinamento\n",
    "\n",
    "    # Divide os arquivos entre treinamento e teste\n",
    "    arquivos_treinamento = arquivos[:num_arquivos_treinamento]\n",
    "    arquivos_teste = arquivos[num_arquivos_treinamento:]\n",
    "\n",
    "    # Move os arquivos para as respectivas pastas de treinamento e teste\n",
    "    for arquivo in arquivos_treinamento:\n",
    "        caminho_arquivo_origem = os.path.join(caminho_subpasta_origem, arquivo)\n",
    "        caminho_arquivo_destino = os.path.join(caminho_subpasta_destino_treinamento, arquivo)\n",
    "        shutil.copyfile(caminho_arquivo_origem, caminho_arquivo_destino)\n",
    "\n",
    "    for arquivo in arquivos_teste:\n",
    "        caminho_arquivo_origem = os.path.join(caminho_subpasta_origem, arquivo)\n",
    "        caminho_arquivo_destino = os.path.join(caminho_subpasta_destino_teste, arquivo)\n",
    "        shutil.copyfile(caminho_arquivo_origem, caminho_arquivo_destino)"
   ]
  },
  {
   "attachments": {},
   "cell_type": "markdown",
   "metadata": {},
   "source": [
    "##### 2. Construção dos modelos/dicionários para cada classe"
   ]
  },
  {
   "cell_type": "code",
   "execution_count": 126,
   "metadata": {},
   "outputs": [],
   "source": [
    "dict_size = 256"
   ]
  },
  {
   "cell_type": "code",
   "execution_count": 127,
   "metadata": {},
   "outputs": [],
   "source": [
    "def lzw_encode(input_file, dictionary, max_dict_size):\n",
    "    current_sequence = bytes()\n",
    "    global dict_size\n",
    "\n",
    "    with open(input_file, \"rb\") as file:\n",
    "        while True:\n",
    "            symbol = file.read(1)\n",
    "            if not symbol:\n",
    "                break\n",
    "\n",
    "            next_sequence = current_sequence + symbol\n",
    "            if next_sequence in dictionary:\n",
    "                current_sequence = next_sequence\n",
    "            else:\n",
    "                if dict_size < 2 ** max_dict_size:\n",
    "                    dictionary[next_sequence] = dict_size\n",
    "                    dict_size += 1\n",
    "                current_sequence = symbol"
   ]
  },
  {
   "cell_type": "code",
   "execution_count": 129,
   "metadata": {},
   "outputs": [],
   "source": [
    "def encode_images_in_folders(folder_path, max_dict_size):\n",
    "    dictionaries = []\n",
    "\n",
    "    # Verifica se o tamanho máximo do dicionário está dentro do intervalo válido\n",
    "    if not (9 <= max_dict_size <= 16):\n",
    "        raise ValueError(\"O tamanho máximo do dicionário deve estar entre 9 e 16.\")\n",
    "\n",
    "    # Percorre todas as pastas\n",
    "    for folder_name in os.listdir(folder_path):\n",
    "        folder_dir = os.path.join(folder_path, folder_name)\n",
    "        dictionary = {bytes([i]): i for i in range(256)}\n",
    "\n",
    "        # Codifica as imagens na pasta atual\n",
    "        for image_name in os.listdir(folder_dir):\n",
    "            image_path = os.path.join(folder_dir, image_name)\n",
    "\n",
    "            # Realiza a codificação LZW para cada imagem\n",
    "            lzw_encode(image_path, dictionary, max_dict_size)\n",
    "        \n",
    "        global dict_size\n",
    "        dict_size = 256\n",
    "\n",
    "        # Adiciona o dicionário da pasta à lista de dicionários\n",
    "        dictionaries.append((folder_name, dictionary))\n",
    "\n",
    "    return dictionaries"
   ]
  },
  {
   "cell_type": "code",
   "execution_count": 138,
   "metadata": {},
   "outputs": [],
   "source": [
    "# Diretório das pastas de imagens\n",
    "folder_path = diretorio_destino_treinamento\n",
    "# Tamanho máximo do dicionário (2^k)\n",
    "max_dict_size = 9\n",
    "# Codifica as imagens em todas as pastas e obtém a lista de dicionários\n",
    "all_dictionaries = encode_images_in_folders(folder_path, max_dict_size)"
   ]
  },
  {
   "cell_type": "code",
   "execution_count": 139,
   "metadata": {},
   "outputs": [
    {
     "name": "stdout",
     "output_type": "stream",
     "text": [
      "Dicionário da pasta 's17':\n",
      "{b'\\x00': 0, b'\\x01': 1, b'\\x02': 2, b'\\x03': 3, b'\\x04': 4, b'\\x05': 5, b'\\x06': 6, b'\\x07': 7, b'\\x08': 8, b'\\t': 9, b'\\n': 10, b'\\x0b': 11, b'\\x0c': 12, b'\\r': 13, b'\\x0e': 14, b'\\x0f': 15, b'\\x10': 16, b'\\x11': 17, b'\\x12': 18, b'\\x13': 19, b'\\x14': 20, b'\\x15': 21, b'\\x16': 22, b'\\x17': 23, b'\\x18': 24, b'\\x19': 25, b'\\x1a': 26, b'\\x1b': 27, b'\\x1c': 28, b'\\x1d': 29, b'\\x1e': 30, b'\\x1f': 31, b' ': 32, b'!': 33, b'\"': 34, b'#': 35, b'$': 36, b'%': 37, b'&': 38, b\"'\": 39, b'(': 40, b')': 41, b'*': 42, b'+': 43, b',': 44, b'-': 45, b'.': 46, b'/': 47, b'0': 48, b'1': 49, b'2': 50, b'3': 51, b'4': 52, b'5': 53, b'6': 54, b'7': 55, b'8': 56, b'9': 57, b':': 58, b';': 59, b'<': 60, b'=': 61, b'>': 62, b'?': 63, b'@': 64, b'A': 65, b'B': 66, b'C': 67, b'D': 68, b'E': 69, b'F': 70, b'G': 71, b'H': 72, b'I': 73, b'J': 74, b'K': 75, b'L': 76, b'M': 77, b'N': 78, b'O': 79, b'P': 80, b'Q': 81, b'R': 82, b'S': 83, b'T': 84, b'U': 85, b'V': 86, b'W': 87, b'X': 88, b'Y': 89, b'Z': 90, b'[': 91, b'\\\\': 92, b']': 93, b'^': 94, b'_': 95, b'`': 96, b'a': 97, b'b': 98, b'c': 99, b'd': 100, b'e': 101, b'f': 102, b'g': 103, b'h': 104, b'i': 105, b'j': 106, b'k': 107, b'l': 108, b'm': 109, b'n': 110, b'o': 111, b'p': 112, b'q': 113, b'r': 114, b's': 115, b't': 116, b'u': 117, b'v': 118, b'w': 119, b'x': 120, b'y': 121, b'z': 122, b'{': 123, b'|': 124, b'}': 125, b'~': 126, b'\\x7f': 127, b'\\x80': 128, b'\\x81': 129, b'\\x82': 130, b'\\x83': 131, b'\\x84': 132, b'\\x85': 133, b'\\x86': 134, b'\\x87': 135, b'\\x88': 136, b'\\x89': 137, b'\\x8a': 138, b'\\x8b': 139, b'\\x8c': 140, b'\\x8d': 141, b'\\x8e': 142, b'\\x8f': 143, b'\\x90': 144, b'\\x91': 145, b'\\x92': 146, b'\\x93': 147, b'\\x94': 148, b'\\x95': 149, b'\\x96': 150, b'\\x97': 151, b'\\x98': 152, b'\\x99': 153, b'\\x9a': 154, b'\\x9b': 155, b'\\x9c': 156, b'\\x9d': 157, b'\\x9e': 158, b'\\x9f': 159, b'\\xa0': 160, b'\\xa1': 161, b'\\xa2': 162, b'\\xa3': 163, b'\\xa4': 164, b'\\xa5': 165, b'\\xa6': 166, b'\\xa7': 167, b'\\xa8': 168, b'\\xa9': 169, b'\\xaa': 170, b'\\xab': 171, b'\\xac': 172, b'\\xad': 173, b'\\xae': 174, b'\\xaf': 175, b'\\xb0': 176, b'\\xb1': 177, b'\\xb2': 178, b'\\xb3': 179, b'\\xb4': 180, b'\\xb5': 181, b'\\xb6': 182, b'\\xb7': 183, b'\\xb8': 184, b'\\xb9': 185, b'\\xba': 186, b'\\xbb': 187, b'\\xbc': 188, b'\\xbd': 189, b'\\xbe': 190, b'\\xbf': 191, b'\\xc0': 192, b'\\xc1': 193, b'\\xc2': 194, b'\\xc3': 195, b'\\xc4': 196, b'\\xc5': 197, b'\\xc6': 198, b'\\xc7': 199, b'\\xc8': 200, b'\\xc9': 201, b'\\xca': 202, b'\\xcb': 203, b'\\xcc': 204, b'\\xcd': 205, b'\\xce': 206, b'\\xcf': 207, b'\\xd0': 208, b'\\xd1': 209, b'\\xd2': 210, b'\\xd3': 211, b'\\xd4': 212, b'\\xd5': 213, b'\\xd6': 214, b'\\xd7': 215, b'\\xd8': 216, b'\\xd9': 217, b'\\xda': 218, b'\\xdb': 219, b'\\xdc': 220, b'\\xdd': 221, b'\\xde': 222, b'\\xdf': 223, b'\\xe0': 224, b'\\xe1': 225, b'\\xe2': 226, b'\\xe3': 227, b'\\xe4': 228, b'\\xe5': 229, b'\\xe6': 230, b'\\xe7': 231, b'\\xe8': 232, b'\\xe9': 233, b'\\xea': 234, b'\\xeb': 235, b'\\xec': 236, b'\\xed': 237, b'\\xee': 238, b'\\xef': 239, b'\\xf0': 240, b'\\xf1': 241, b'\\xf2': 242, b'\\xf3': 243, b'\\xf4': 244, b'\\xf5': 245, b'\\xf6': 246, b'\\xf7': 247, b'\\xf8': 248, b'\\xf9': 249, b'\\xfa': 250, b'\\xfb': 251, b'\\xfc': 252, b'\\xfd': 253, b'\\xfe': 254, b'\\xff': 255, b'8=': 256, b'=6': 257, b'6:': 258, b'::': 259, b':<': 260, b'<:': 261, b':?': 262, b'?:': 263, b':9': 264, b'9>': 265, b'>M': 266, b'MB': 267, b'BF': 268, b'FE': 269, b'E>': 270, b'>3': 271, b'3D': 272, b'D3': 273, b'36': 274, b'6H': 275, b'HE': 276, b'EA': 277, b'A6': 278, b'6/': 279, b'/:': 280, b':6': 281, b'6%': 282, b'%&': 283, b'&2': 284, b'2E': 285, b'EA:': 286, b':?M': 287, b'MG': 288, b'GV': 289, b'VJ': 290, b'J>': 291, b'>6': 292, b'66': 293, b'63': 294, b'3+': 295, b'+0': 296, b'0,': 297, b',-': 298, b\"-'\": 299, b\"' \": 300, b' &': 301, b'&&': 302, b'&+': 303, b'+(': 304, b'(1': 305, b'1)': 306, b')/': 307, b'//': 308, b'/&': 309, b'&-': 310, b'-.': 311, b'.8': 312, b'83': 313, b'31': 314, b'14': 315, b'4&': 316, b'&5': 317, b'52': 318, b'2.': 319, b'.&': 320, b'&5G': 321, b'GG': 322, b'GD': 323, b'DG': 324, b'GG5': 325, b'5D': 326, b'DB': 327, b'BD': 328, b'D>': 329, b'><': 330, b'<7': 331, b'7:': 332, b':@': 333, b'@=': 334, b'==': 335, b'=9': 336, b'97': 337, b'7:8': 338, b'86': 339, b'67': 340, b'76': 341, b'65': 342, b'5=': 343, b'=8': 344, b'8>': 345, b'>8': 346, b'8<': 347, b'<=': 348, b'==2': 349, b'25': 350, b'5P': 351, b'PJ': 352, b'JF': 353, b'FA': 354, b'AA': 355, b'AB': 356, b'B7': 357, b'7;': 358, b';7': 359, b'71': 360, b'1B': 361, b'B?': 362, b'?C': 363, b'C5': 364, b'50': 365, b'08': 366, b'8=9': 367, b'90': 368, b'0)': 369, b');': 370, b';7A': 371, b'A7': 372, b'7<': 373, b'<:G': 374, b'GF': 375, b'F?': 376, b'?:3': 377, b'39': 378, b'9(': 379, b'(*': 380, b'*1': 381, b'10': 382, b'00': 383, b\"0'\": 384, b'\\'\"': 385, b'\"-': 386, b'-,': 387, b',8': 388, b'8(': 389, b\"('\": 390, b\"'/\": 391, b'/-': 392, b'-\"': 393, b'\"%': 394, b'%+': 395, b'+*': 396, b'*)': 397, b').': 398, b'.0': 399, b'0+': 400, b'+.': 401, b'.)': 402, b').6': 403, b'6C': 404, b'CI': 405, b'I@': 406, b'@?': 407, b'?J': 408, b'J;': 409, b';:': 410, b':B': 411, b'B:': 412, b':G': 413, b'G@': 414, b'@8': 415, b'8=F': 416, b'F?D': 417, b'D;': 418, b';<': 419, b'<:;': 420, b';<7': 421, b'76;': 422, b';<;': 423, b';9': 424, b'99': 425, b'9<': 426, b'<::': 427, b':91': 428, b'1;': 429, b';O': 430, b'OB': 431, b'BH': 432, b'H>': 433, b'>?': 434, b'?J7': 435, b'75': 436, b'57': 437, b\"7'\": 438, b\"'A\": 439, b'A=': 440, b'=I': 441, b'IA': 442, b'A8': 443, b'86B': 444, b'B8': 445, b'85': 446, b'54': 447, b'4/': 448, b'/6': 449, b'6?': 450, b'??': 451, b'?7': 452, b'72': 453, b'29': 454, b'95': 455, b'5=B': 456, b'B9': 457, b'9=': 458, b'=9.': 459, b'.7': 460, b'757': 461, b'7.': 462, b'.&0': 463, b'0=': 464, b'=0': 465, b'0\\x1d': 466, b'\\x1d5': 467, b'5&': 468, b'&/': 469, b'/%': 470, b'%!': 471, b\"!'\": 472, b\"''\": 473, b\"'(\": 474, b'(-': 475, b'-*': 476, b'*)#': 477, b'#.': 478, b'.*': 479, b'*/': 480, b'/3': 481, b'3>': 482, b'><J': 483, b'JL': 484, b'LB': 485, b'B@': 486, b'@O': 487, b'OB@': 488, b'@I': 489, b'IM': 490, b'MH': 491, b'HH': 492, b'HO': 493, b'ON': 494, b'NF': 495, b'FI': 496, b'I;': 497, b';6': 498, b'69': 499, b'9;': 500, b';6<': 501, b'<>': 502, b'>89': 503, b'9>6': 504, b'6B': 505, b'B6': 506, b'62': 507, b'2/': 508, b'/A': 509, b'AJ': 510, b'J@': 511}\n",
      "Tamanho: 512\n"
     ]
    }
   ],
   "source": [
    "folder_name, dictionary = all_dictionaries[8]\n",
    "print(f\"Dicionário da pasta '{folder_name}':\")\n",
    "print(dictionary)\n",
    "print(f\"Tamanho: {len(dictionary)}\")"
   ]
  }
 ],
 "metadata": {
  "kernelspec": {
   "display_name": "Python 3.10.11 64-bit",
   "language": "python",
   "name": "python3"
  },
  "language_info": {
   "codemirror_mode": {
    "name": "ipython",
    "version": 3
   },
   "file_extension": ".py",
   "mimetype": "text/x-python",
   "name": "python",
   "nbconvert_exporter": "python",
   "pygments_lexer": "ipython3",
   "version": "3.9.12"
  },
  "orig_nbformat": 4,
  "vscode": {
   "interpreter": {
    "hash": "fa383bd5795343d120c9e49001a7b53fdba01cb5a23d5230dcdce1ac3d12b910"
   }
  }
 },
 "nbformat": 4,
 "nbformat_minor": 2
}
