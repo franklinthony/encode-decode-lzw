{
 "cells": [
  {
   "cell_type": "code",
   "execution_count": 1,
   "metadata": {},
   "outputs": [],
   "source": [
    "import time"
   ]
  },
  {
   "cell_type": "code",
   "execution_count": 81,
   "metadata": {},
   "outputs": [],
   "source": [
    "def lzw_encode(input_file, max_dict_size):\n",
    "    # Inicializa o dicionário LZW com todos os caracteres ASCII possíveis\n",
    "    dict_size = 256\n",
    "    dictionary = {bytes([i]): i for i in range(dict_size)}\n",
    "    # next_code = 256\n",
    "    current_sequence = bytes()\n",
    "    \n",
    "    with open(input_file, \"rb\") as file, open(\"output.bin\", \"wb\") as output_file:\n",
    "        # Codifica cada símbolo da entrada\n",
    "        while True:\n",
    "            symbol = file.read(1)\n",
    "            if not symbol:\n",
    "                break\n",
    "                \n",
    "            # Acrescenta o próximo símbolo à sequência atual\n",
    "            next_sequence = current_sequence + symbol # BYTE\n",
    "            # Se a próxima sequência estiver no dicionário, continua acrescentando símbolos\n",
    "            # até chegar a uma sequência que não esteja no dicionário\n",
    "            if next_sequence in dictionary:\n",
    "                current_sequence = next_sequence\n",
    "            else:\n",
    "                # Codifica a sequência atual e adiciona a nova sequência ao dicionário\n",
    "                encoded_sequence = dictionary[current_sequence]\n",
    "                #full_encode.append(bin(encoded_sequence)[2:].zfill(16))\n",
    "                output_file.write(encoded_sequence.to_bytes(2, byteorder=\"big\"))\n",
    "                \n",
    "                if dict_size < 2 ** max_dict_size:\n",
    "                    dictionary[next_sequence] = dict_size\n",
    "                    dict_size += 1\n",
    "                # Começa uma nova sequência com o último símbolo lido\n",
    "                current_sequence = symbol\n",
    "\n",
    "        # Escreve o último código LZW no arquivo de saída\n",
    "        if current_sequence:\n",
    "            encoded_sequence = dictionary[current_sequence]\n",
    "            output_file.write(encoded_sequence.to_bytes(2, byteorder=\"big\"))\n",
    "            \n",
    "    return \"disco_output.bin\"\n",
    "\n"
   ]
  },
  {
   "cell_type": "code",
   "execution_count": 82,
   "metadata": {},
   "outputs": [
    {
     "data": {
      "text/plain": [
       "'disco_output.bin'"
      ]
     },
     "execution_count": 82,
     "metadata": {},
     "output_type": "execute_result"
    }
   ],
   "source": [
    "lzw_encode(r'J:\\UFPB\\TEORIA DA INFO\\Trabalho\\encode-decode-lzw\\files\\corpus16MB.txt', 16)"
   ]
  },
  {
   "cell_type": "code",
   "execution_count": 83,
   "metadata": {},
   "outputs": [],
   "source": [
    "def lzw_decode(input_file, max_dict_size):\n",
    "    # Inicializa o dicionário LZW com todos os caracteres ASCII possíveis\n",
    "    dict_size = 256\n",
    "    dictionary = {i: bytes([i]) for i in range(dict_size)}\n",
    "    \n",
    "    with open(input_file, \"rb\") as file, open(\"output.txt\", \"wb\") as output_file:\n",
    "        # Decodifica cada código LZW\n",
    "        current_code = int.from_bytes(file.read(2), byteorder=\"big\")\n",
    "        current_sequence = dictionary[current_code]\n",
    "        output_file.write(current_sequence)\n",
    "\n",
    "        while True:\n",
    "            next_code_bytes = file.read(2)\n",
    "            if not next_code_bytes:\n",
    "                break\n",
    "                \n",
    "            next_code = int.from_bytes(next_code_bytes, byteorder=\"big\")\n",
    "            # Se o próximo código LZW estiver no dicionário, decodifica-o\n",
    "            if next_code in dictionary:\n",
    "                next_sequence = dictionary[next_code]\n",
    "            # Senão, decodifica a sequência atual acrescida do primeiro caractere da próxima sequência\n",
    "            else:\n",
    "                next_sequence = current_sequence + bytes([current_sequence[0]])\n",
    "\n",
    "            # Escreve a sequência decodificada no arquivo de saída\n",
    "            output_file.write(next_sequence)\n",
    "\n",
    "            # Adiciona a sequência atual acrescida do primeiro caractere da próxima sequência ao dicionário\n",
    "            if dict_size < 2 ** max_dict_size:\n",
    "                dictionary[dict_size] = current_sequence + bytes([next_sequence[0]])\n",
    "                dict_size += 1\n",
    "\n",
    "            # Atualiza a sequência atual\n",
    "            current_sequence = next_sequence\n",
    "\n",
    "    return \"disco_output.txt\"\n"
   ]
  },
  {
   "cell_type": "code",
   "execution_count": 84,
   "metadata": {},
   "outputs": [
    {
     "data": {
      "text/plain": [
       "'disco_output.txt'"
      ]
     },
     "execution_count": 84,
     "metadata": {},
     "output_type": "execute_result"
    }
   ],
   "source": [
    "lzw_decode(r'J:\\UFPB\\TEORIA DA INFO\\Trabalho\\encode-decode-lzw\\output.bin', 16)"
   ]
  },
  {
   "cell_type": "code",
   "execution_count": null,
   "metadata": {},
   "outputs": [],
   "source": []
  }
 ],
 "metadata": {
  "kernelspec": {
   "display_name": "Python 3.10.11 64-bit",
   "language": "python",
   "name": "python3"
  },
  "language_info": {
   "codemirror_mode": {
    "name": "ipython",
    "version": 3
   },
   "file_extension": ".py",
   "mimetype": "text/x-python",
   "name": "python",
   "nbconvert_exporter": "python",
   "pygments_lexer": "ipython3",
   "version": "3.10.11"
  },
  "orig_nbformat": 4,
  "vscode": {
   "interpreter": {
    "hash": "fa383bd5795343d120c9e49001a7b53fdba01cb5a23d5230dcdce1ac3d12b910"
   }
  }
 },
 "nbformat": 4,
 "nbformat_minor": 2
}
