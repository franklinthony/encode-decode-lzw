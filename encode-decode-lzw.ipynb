{
 "cells": [
  {
   "cell_type": "code",
   "execution_count": 58,
   "metadata": {},
   "outputs": [],
   "source": [
    "import time"
   ]
  },
  {
   "cell_type": "code",
   "execution_count": 59,
   "metadata": {},
   "outputs": [],
   "source": [
    "def lzw_encode(input_file, max_dict_size):\n",
    "    #s = time.time()\n",
    "    # Inicializa o dicionário com todos os símbolos possíveis\n",
    "    dict_size = 256\n",
    "    dictionary = {chr(i): i for i in range(dict_size)}\n",
    "    #full_encode = []\n",
    "    # Inicializa a sequência atual como vazia\n",
    "    current_sequence = \"\"\n",
    "\n",
    "    # Abre o arquivo de entrada para leitura e o arquivo de saída para escrita\n",
    "    with open(input_file, \"rb\") as file, open(\"output.bin\", \"wb\") as output_file:\n",
    "        # Codifica cada símbolo da entrada\n",
    "        for symbol in file.read():\n",
    "            # Acrescenta o próximo símbolo à sequência atual\n",
    "            next_sequence = current_sequence + chr(symbol)\n",
    "\n",
    "            # Se a próxima sequência estiver no dicionário, continua acrescentando símbolos\n",
    "            # até chegar a uma sequência que não esteja no dicionário\n",
    "            if next_sequence in dictionary:\n",
    "                current_sequence = next_sequence\n",
    "            else:\n",
    "                # Codifica a sequência atual e adiciona a nova sequência ao dicionário\n",
    "                encoded_sequence = dictionary[current_sequence]\n",
    "                #full_encode.append(bin(encoded_sequence)[2:].zfill(16))\n",
    "                output_file.write(encoded_sequence.to_bytes(2, byteorder=\"big\"))\n",
    "                \n",
    "                if dict_size < 2 ** max_dict_size:\n",
    "                    dictionary[next_sequence] = dict_size\n",
    "                    dict_size += 1\n",
    "                # Começa uma nova sequência com o último símbolo lido\n",
    "                current_sequence = chr(symbol)\n",
    "\n",
    "        # Codifica a última sequência atual\n",
    "        encoded_sequence = dictionary[current_sequence]\n",
    "        #full_encode.append(bin(encoded_sequence)[2:].zfill(16))\n",
    "        output_file.write(encoded_sequence.to_bytes(2, byteorder=\"big\"))\n",
    "        #print(f\"Tempo de processamento: {time.time() - s} s\")\n",
    "        #return full_encode, dictionary\n"
   ]
  },
  {
   "cell_type": "code",
   "execution_count": 60,
   "metadata": {},
   "outputs": [],
   "source": [
    "lzw_encode(r'C:\\Users\\franklin.coelho\\Documents\\encode-decode-lzw\\files\\corpus16MB.txt', 16)"
   ]
  },
  {
   "cell_type": "code",
   "execution_count": 42,
   "metadata": {},
   "outputs": [],
   "source": [
    "def lzw_decode(input_file, max_dict_size):\n",
    "    # Inicializa o dicionário com todos os símbolos possíveis\n",
    "    dict_size = 256\n",
    "    dictionary = {i: chr(i) for i in range(dict_size)}\n",
    "\n",
    "    # Lê o arquivo de entrada e decodifica os códigos LZW\n",
    "    with open(input_file, \"rb\") as file, open(\"output.txt\", \"w\") as output_file:\n",
    "        # Lê os primeiros dois bytes do arquivo como o primeiro código LZW\n",
    "        current_code = int.from_bytes(file.read(2), byteorder=\"big\")\n",
    "        # Decodifica o primeiro código LZW como um caractere\n",
    "        current_sequence = dictionary[current_code]\n",
    "        # Escreve o primeiro caractere decodificado no arquivo de saída\n",
    "        output_file.write(current_sequence)\n",
    "\n",
    "        # Continua decodificando os códigos LZW até que o arquivo de entrada seja lido completamente\n",
    "        while True:\n",
    "            # Lê o próximo código LZW do arquivo\n",
    "            next_code = file.read(2)\n",
    "            # Se o final do arquivo for alcançado, sai do loop\n",
    "            if not next_code:\n",
    "                break\n",
    "            # Converte o próximo código LZW em um inteiro\n",
    "            next_code = int.from_bytes(next_code, byteorder=\"big\")\n",
    "            # Se o próximo código LZW estiver no dicionário, decodifica-o\n",
    "            if next_code in dictionary:\n",
    "                next_sequence = dictionary[next_code]\n",
    "            # Senão, decodifica a sequência atual acrescida do primeiro caractere da próxima sequência\n",
    "            else:\n",
    "                next_sequence = current_sequence + current_sequence[0]\n",
    "            # Escreve a sequência decodificada no arquivo de saída\n",
    "            output_file.write(next_sequence)\n",
    "            # Adiciona a próxima sequência ao dicionário\n",
    "            dictionary[dict_size] = current_sequence + next_sequence[0]\n",
    "            dict_size += 1\n",
    "            # Atualiza a sequência atual para a próxima sequência\n",
    "            current_sequence = next_sequence\n",
    "            # Atualiza o código LZW atual para o próximo código LZW\n",
    "            current_code = next_code\n"
   ]
  },
  {
   "cell_type": "code",
   "execution_count": 57,
   "metadata": {},
   "outputs": [],
   "source": [
    "lzw_decode(r'C:\\Users\\franklin.coelho\\Documents\\encode-decode-lzw\\output.bin', 16)"
   ]
  },
  {
   "cell_type": "code",
   "execution_count": null,
   "metadata": {},
   "outputs": [],
   "source": []
  }
 ],
 "metadata": {
  "kernelspec": {
   "display_name": "base",
   "language": "python",
   "name": "python3"
  },
  "language_info": {
   "codemirror_mode": {
    "name": "ipython",
    "version": 3
   },
   "file_extension": ".py",
   "mimetype": "text/x-python",
   "name": "python",
   "nbconvert_exporter": "python",
   "pygments_lexer": "ipython3",
   "version": "3.9.12"
  },
  "orig_nbformat": 4
 },
 "nbformat": 4,
 "nbformat_minor": 2
}
